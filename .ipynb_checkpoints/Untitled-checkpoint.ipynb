{
 "cells": [
  {
   "cell_type": "code",
   "execution_count": 1,
   "id": "1f2e572b",
   "metadata": {},
   "outputs": [],
   "source": [
    "import pandas as pd\n",
    "import numpy as np\n",
    "import sklearn as sns\n",
    "import matplotlib.pyplot as plt"
   ]
  },
  {
   "cell_type": "code",
   "execution_count": 2,
   "id": "4d8cab6b",
   "metadata": {},
   "outputs": [
    {
     "data": {
      "text/html": [
       "<div>\n",
       "<style scoped>\n",
       "    .dataframe tbody tr th:only-of-type {\n",
       "        vertical-align: middle;\n",
       "    }\n",
       "\n",
       "    .dataframe tbody tr th {\n",
       "        vertical-align: top;\n",
       "    }\n",
       "\n",
       "    .dataframe thead th {\n",
       "        text-align: right;\n",
       "    }\n",
       "</style>\n",
       "<table border=\"1\" class=\"dataframe\">\n",
       "  <thead>\n",
       "    <tr style=\"text-align: right;\">\n",
       "      <th></th>\n",
       "      <th>subject</th>\n",
       "      <th>message</th>\n",
       "      <th>label</th>\n",
       "    </tr>\n",
       "  </thead>\n",
       "  <tbody>\n",
       "    <tr>\n",
       "      <th>0</th>\n",
       "      <td>job posting - apple-iss research center</td>\n",
       "      <td>content - length : 3386 apple-iss research cen...</td>\n",
       "      <td>0</td>\n",
       "    </tr>\n",
       "    <tr>\n",
       "      <th>1</th>\n",
       "      <td>NaN</td>\n",
       "      <td>lang classification grimes , joseph e . and ba...</td>\n",
       "      <td>0</td>\n",
       "    </tr>\n",
       "    <tr>\n",
       "      <th>2</th>\n",
       "      <td>query : letter frequencies for text identifica...</td>\n",
       "      <td>i am posting this inquiry for sergei atamas ( ...</td>\n",
       "      <td>0</td>\n",
       "    </tr>\n",
       "    <tr>\n",
       "      <th>3</th>\n",
       "      <td>risk</td>\n",
       "      <td>a colleague and i are researching the differin...</td>\n",
       "      <td>0</td>\n",
       "    </tr>\n",
       "    <tr>\n",
       "      <th>4</th>\n",
       "      <td>request book information</td>\n",
       "      <td>earlier this morning i was on the phone with a...</td>\n",
       "      <td>0</td>\n",
       "    </tr>\n",
       "    <tr>\n",
       "      <th>...</th>\n",
       "      <td>...</td>\n",
       "      <td>...</td>\n",
       "      <td>...</td>\n",
       "    </tr>\n",
       "    <tr>\n",
       "      <th>2888</th>\n",
       "      <td>love your profile - ysuolvpv</td>\n",
       "      <td>hello thanks for stopping by ! ! we have taken...</td>\n",
       "      <td>1</td>\n",
       "    </tr>\n",
       "    <tr>\n",
       "      <th>2889</th>\n",
       "      <td>you have been asked to join kiddin</td>\n",
       "      <td>the list owner of : \" kiddin \" has invited you...</td>\n",
       "      <td>1</td>\n",
       "    </tr>\n",
       "    <tr>\n",
       "      <th>2890</th>\n",
       "      <td>anglicization of composers ' names</td>\n",
       "      <td>judging from the return post , i must have sou...</td>\n",
       "      <td>0</td>\n",
       "    </tr>\n",
       "    <tr>\n",
       "      <th>2891</th>\n",
       "      <td>re : 6 . 797 , comparative method : n - ary co...</td>\n",
       "      <td>gotcha ! there are two separate fallacies in t...</td>\n",
       "      <td>0</td>\n",
       "    </tr>\n",
       "    <tr>\n",
       "      <th>2892</th>\n",
       "      <td>re : american - english in australia</td>\n",
       "      <td>hello ! i ' m working on a thesis concerning a...</td>\n",
       "      <td>0</td>\n",
       "    </tr>\n",
       "  </tbody>\n",
       "</table>\n",
       "<p>2893 rows × 3 columns</p>\n",
       "</div>"
      ],
      "text/plain": [
       "                                                subject  \\\n",
       "0               job posting - apple-iss research center   \n",
       "1                                                   NaN   \n",
       "2     query : letter frequencies for text identifica...   \n",
       "3                                                  risk   \n",
       "4                              request book information   \n",
       "...                                                 ...   \n",
       "2888                       love your profile - ysuolvpv   \n",
       "2889                 you have been asked to join kiddin   \n",
       "2890                 anglicization of composers ' names   \n",
       "2891  re : 6 . 797 , comparative method : n - ary co...   \n",
       "2892               re : american - english in australia   \n",
       "\n",
       "                                                message  label  \n",
       "0     content - length : 3386 apple-iss research cen...      0  \n",
       "1     lang classification grimes , joseph e . and ba...      0  \n",
       "2     i am posting this inquiry for sergei atamas ( ...      0  \n",
       "3     a colleague and i are researching the differin...      0  \n",
       "4     earlier this morning i was on the phone with a...      0  \n",
       "...                                                 ...    ...  \n",
       "2888  hello thanks for stopping by ! ! we have taken...      1  \n",
       "2889  the list owner of : \" kiddin \" has invited you...      1  \n",
       "2890  judging from the return post , i must have sou...      0  \n",
       "2891  gotcha ! there are two separate fallacies in t...      0  \n",
       "2892  hello ! i ' m working on a thesis concerning a...      0  \n",
       "\n",
       "[2893 rows x 3 columns]"
      ]
     },
     "execution_count": 2,
     "metadata": {},
     "output_type": "execute_result"
    }
   ],
   "source": [
    "full_data= pd.read_csv(\"messages.csv\")\n",
    "full_data"
   ]
  },
  {
   "cell_type": "code",
   "execution_count": 12,
   "id": "bbde07ef",
   "metadata": {},
   "outputs": [
    {
     "data": {
      "text/plain": [
       "0       content - length : 3386 apple-iss research cen...\n",
       "1       lang classification grimes , joseph e . and ba...\n",
       "2       i am posting this inquiry for sergei atamas ( ...\n",
       "3       a colleague and i are researching the differin...\n",
       "4       earlier this morning i was on the phone with a...\n",
       "                              ...                        \n",
       "2888    hello thanks for stopping by ! ! we have taken...\n",
       "2889    the list owner of : \" kiddin \" has invited you...\n",
       "2890    judging from the return post , i must have sou...\n",
       "2891    gotcha ! there are two separate fallacies in t...\n",
       "2892    hello ! i ' m working on a thesis concerning a...\n",
       "Name: messasge, Length: 2893, dtype: object"
      ]
     },
     "execution_count": 12,
     "metadata": {},
     "output_type": "execute_result"
    }
   ],
   "source": [
    "full_data['messasge'].str.lower()"
   ]
  },
  {
   "cell_type": "code",
   "execution_count": 13,
   "id": "31f89033",
   "metadata": {},
   "outputs": [
    {
     "data": {
      "text/html": [
       "<div>\n",
       "<style scoped>\n",
       "    .dataframe tbody tr th:only-of-type {\n",
       "        vertical-align: middle;\n",
       "    }\n",
       "\n",
       "    .dataframe tbody tr th {\n",
       "        vertical-align: top;\n",
       "    }\n",
       "\n",
       "    .dataframe thead th {\n",
       "        text-align: right;\n",
       "    }\n",
       "</style>\n",
       "<table border=\"1\" class=\"dataframe\">\n",
       "  <thead>\n",
       "    <tr style=\"text-align: right;\">\n",
       "      <th></th>\n",
       "      <th>subject</th>\n",
       "      <th>message</th>\n",
       "      <th>label</th>\n",
       "      <th>messasge</th>\n",
       "    </tr>\n",
       "  </thead>\n",
       "  <tbody>\n",
       "    <tr>\n",
       "      <th>0</th>\n",
       "      <td>job posting - apple-iss research center</td>\n",
       "      <td>content - length : 3386 apple-iss research cen...</td>\n",
       "      <td>0</td>\n",
       "      <td>content - length : 3386 apple-iss research cen...</td>\n",
       "    </tr>\n",
       "    <tr>\n",
       "      <th>1</th>\n",
       "      <td>NaN</td>\n",
       "      <td>lang classification grimes , joseph e . and ba...</td>\n",
       "      <td>0</td>\n",
       "      <td>lang classification grimes , joseph e . and ba...</td>\n",
       "    </tr>\n",
       "    <tr>\n",
       "      <th>2</th>\n",
       "      <td>query : letter frequencies for text identifica...</td>\n",
       "      <td>i am posting this inquiry for sergei atamas ( ...</td>\n",
       "      <td>0</td>\n",
       "      <td>i am posting this inquiry for sergei atamas ( ...</td>\n",
       "    </tr>\n",
       "    <tr>\n",
       "      <th>3</th>\n",
       "      <td>risk</td>\n",
       "      <td>a colleague and i are researching the differin...</td>\n",
       "      <td>0</td>\n",
       "      <td>a colleague and i are researching the differin...</td>\n",
       "    </tr>\n",
       "    <tr>\n",
       "      <th>4</th>\n",
       "      <td>request book information</td>\n",
       "      <td>earlier this morning i was on the phone with a...</td>\n",
       "      <td>0</td>\n",
       "      <td>earlier this morning i was on the phone with a...</td>\n",
       "    </tr>\n",
       "  </tbody>\n",
       "</table>\n",
       "</div>"
      ],
      "text/plain": [
       "                                             subject  \\\n",
       "0            job posting - apple-iss research center   \n",
       "1                                                NaN   \n",
       "2  query : letter frequencies for text identifica...   \n",
       "3                                               risk   \n",
       "4                           request book information   \n",
       "\n",
       "                                             message  label  \\\n",
       "0  content - length : 3386 apple-iss research cen...      0   \n",
       "1  lang classification grimes , joseph e . and ba...      0   \n",
       "2  i am posting this inquiry for sergei atamas ( ...      0   \n",
       "3  a colleague and i are researching the differin...      0   \n",
       "4  earlier this morning i was on the phone with a...      0   \n",
       "\n",
       "                                            messasge  \n",
       "0  content - length : 3386 apple-iss research cen...  \n",
       "1  lang classification grimes , joseph e . and ba...  \n",
       "2  i am posting this inquiry for sergei atamas ( ...  \n",
       "3  a colleague and i are researching the differin...  \n",
       "4  earlier this morning i was on the phone with a...  "
      ]
     },
     "execution_count": 13,
     "metadata": {},
     "output_type": "execute_result"
    }
   ],
   "source": [
    "full_data.head(5)"
   ]
  },
  {
   "cell_type": "code",
   "execution_count": 14,
   "id": "3694d41a",
   "metadata": {},
   "outputs": [
    {
     "data": {
      "text/plain": [
       "subject     62\n",
       "message      0\n",
       "label        0\n",
       "messasge     0\n",
       "dtype: int64"
      ]
     },
     "execution_count": 14,
     "metadata": {},
     "output_type": "execute_result"
    }
   ],
   "source": [
    "full_data.isnull().sum()"
   ]
  },
  {
   "cell_type": "code",
   "execution_count": 15,
   "id": "061a5729",
   "metadata": {},
   "outputs": [],
   "source": [
    "full_data.fillna(full_data['subject'].mode().values[0], inplace = True)"
   ]
  },
  {
   "cell_type": "code",
   "execution_count": 16,
   "id": "4c39d89f",
   "metadata": {},
   "outputs": [
    {
     "data": {
      "text/plain": [
       "subject     0\n",
       "message     0\n",
       "label       0\n",
       "messasge    0\n",
       "dtype: int64"
      ]
     },
     "execution_count": 16,
     "metadata": {},
     "output_type": "execute_result"
    }
   ],
   "source": [
    "full_data.isnull().sum()"
   ]
  },
  {
   "cell_type": "code",
   "execution_count": 17,
   "id": "e0af5b98",
   "metadata": {},
   "outputs": [],
   "source": [
    "full_data['sub_msge'] = full_data['subject']+ full_data['message']"
   ]
  },
  {
   "cell_type": "code",
   "execution_count": 18,
   "id": "29af9e12",
   "metadata": {},
   "outputs": [
    {
     "data": {
      "text/html": [
       "<div>\n",
       "<style scoped>\n",
       "    .dataframe tbody tr th:only-of-type {\n",
       "        vertical-align: middle;\n",
       "    }\n",
       "\n",
       "    .dataframe tbody tr th {\n",
       "        vertical-align: top;\n",
       "    }\n",
       "\n",
       "    .dataframe thead th {\n",
       "        text-align: right;\n",
       "    }\n",
       "</style>\n",
       "<table border=\"1\" class=\"dataframe\">\n",
       "  <thead>\n",
       "    <tr style=\"text-align: right;\">\n",
       "      <th></th>\n",
       "      <th>subject</th>\n",
       "      <th>message</th>\n",
       "      <th>label</th>\n",
       "      <th>messasge</th>\n",
       "      <th>sub_msge</th>\n",
       "    </tr>\n",
       "  </thead>\n",
       "  <tbody>\n",
       "    <tr>\n",
       "      <th>0</th>\n",
       "      <td>job posting - apple-iss research center</td>\n",
       "      <td>content - length : 3386 apple-iss research cen...</td>\n",
       "      <td>0</td>\n",
       "      <td>content - length : 3386 apple-iss research cen...</td>\n",
       "      <td>job posting - apple-iss research centercontent...</td>\n",
       "    </tr>\n",
       "    <tr>\n",
       "      <th>1</th>\n",
       "      <td>sociolinguistics</td>\n",
       "      <td>lang classification grimes , joseph e . and ba...</td>\n",
       "      <td>0</td>\n",
       "      <td>lang classification grimes , joseph e . and ba...</td>\n",
       "      <td>sociolinguisticslang classification grimes , j...</td>\n",
       "    </tr>\n",
       "    <tr>\n",
       "      <th>2</th>\n",
       "      <td>query : letter frequencies for text identifica...</td>\n",
       "      <td>i am posting this inquiry for sergei atamas ( ...</td>\n",
       "      <td>0</td>\n",
       "      <td>i am posting this inquiry for sergei atamas ( ...</td>\n",
       "      <td>query : letter frequencies for text identifica...</td>\n",
       "    </tr>\n",
       "    <tr>\n",
       "      <th>3</th>\n",
       "      <td>risk</td>\n",
       "      <td>a colleague and i are researching the differin...</td>\n",
       "      <td>0</td>\n",
       "      <td>a colleague and i are researching the differin...</td>\n",
       "      <td>riska colleague and i are researching the diff...</td>\n",
       "    </tr>\n",
       "    <tr>\n",
       "      <th>4</th>\n",
       "      <td>request book information</td>\n",
       "      <td>earlier this morning i was on the phone with a...</td>\n",
       "      <td>0</td>\n",
       "      <td>earlier this morning i was on the phone with a...</td>\n",
       "      <td>request book informationearlier this morning i...</td>\n",
       "    </tr>\n",
       "  </tbody>\n",
       "</table>\n",
       "</div>"
      ],
      "text/plain": [
       "                                             subject  \\\n",
       "0            job posting - apple-iss research center   \n",
       "1                                   sociolinguistics   \n",
       "2  query : letter frequencies for text identifica...   \n",
       "3                                               risk   \n",
       "4                           request book information   \n",
       "\n",
       "                                             message  label  \\\n",
       "0  content - length : 3386 apple-iss research cen...      0   \n",
       "1  lang classification grimes , joseph e . and ba...      0   \n",
       "2  i am posting this inquiry for sergei atamas ( ...      0   \n",
       "3  a colleague and i are researching the differin...      0   \n",
       "4  earlier this morning i was on the phone with a...      0   \n",
       "\n",
       "                                            messasge  \\\n",
       "0  content - length : 3386 apple-iss research cen...   \n",
       "1  lang classification grimes , joseph e . and ba...   \n",
       "2  i am posting this inquiry for sergei atamas ( ...   \n",
       "3  a colleague and i are researching the differin...   \n",
       "4  earlier this morning i was on the phone with a...   \n",
       "\n",
       "                                            sub_msge  \n",
       "0  job posting - apple-iss research centercontent...  \n",
       "1  sociolinguisticslang classification grimes , j...  \n",
       "2  query : letter frequencies for text identifica...  \n",
       "3  riska colleague and i are researching the diff...  \n",
       "4  request book informationearlier this morning i...  "
      ]
     },
     "execution_count": 18,
     "metadata": {},
     "output_type": "execute_result"
    }
   ],
   "source": [
    "full_data.head()"
   ]
  },
  {
   "cell_type": "code",
   "execution_count": 19,
   "id": "28e2b1f9",
   "metadata": {},
   "outputs": [
    {
     "data": {
      "text/plain": [
       "count                                                  2893\n",
       "unique                                                 2876\n",
       "top       re := 20 the virtual girlfriend and virtual bo...\n",
       "freq                                                      4\n",
       "Name: sub_msge, dtype: object"
      ]
     },
     "execution_count": 19,
     "metadata": {},
     "output_type": "execute_result"
    }
   ],
   "source": [
    "full_data['sub_msge'].describe()"
   ]
  },
  {
   "cell_type": "code",
   "execution_count": 20,
   "id": "c7dd7016",
   "metadata": {},
   "outputs": [
    {
     "data": {
      "text/html": [
       "<div>\n",
       "<style scoped>\n",
       "    .dataframe tbody tr th:only-of-type {\n",
       "        vertical-align: middle;\n",
       "    }\n",
       "\n",
       "    .dataframe tbody tr th {\n",
       "        vertical-align: top;\n",
       "    }\n",
       "\n",
       "    .dataframe thead th {\n",
       "        text-align: right;\n",
       "    }\n",
       "</style>\n",
       "<table border=\"1\" class=\"dataframe\">\n",
       "  <thead>\n",
       "    <tr style=\"text-align: right;\">\n",
       "      <th></th>\n",
       "      <th>subject</th>\n",
       "      <th>message</th>\n",
       "      <th>label</th>\n",
       "      <th>messasge</th>\n",
       "      <th>sub_msge</th>\n",
       "      <th>length</th>\n",
       "    </tr>\n",
       "  </thead>\n",
       "  <tbody>\n",
       "    <tr>\n",
       "      <th>0</th>\n",
       "      <td>job posting - apple-iss research center</td>\n",
       "      <td>content - length : 3386 apple-iss research cen...</td>\n",
       "      <td>0</td>\n",
       "      <td>content - length : 3386 apple-iss research cen...</td>\n",
       "      <td>job posting - apple-iss research centercontent...</td>\n",
       "      <td>2895</td>\n",
       "    </tr>\n",
       "    <tr>\n",
       "      <th>1</th>\n",
       "      <td>sociolinguistics</td>\n",
       "      <td>lang classification grimes , joseph e . and ba...</td>\n",
       "      <td>0</td>\n",
       "      <td>lang classification grimes , joseph e . and ba...</td>\n",
       "      <td>sociolinguisticslang classification grimes , j...</td>\n",
       "      <td>1816</td>\n",
       "    </tr>\n",
       "    <tr>\n",
       "      <th>2</th>\n",
       "      <td>query : letter frequencies for text identifica...</td>\n",
       "      <td>i am posting this inquiry for sergei atamas ( ...</td>\n",
       "      <td>0</td>\n",
       "      <td>i am posting this inquiry for sergei atamas ( ...</td>\n",
       "      <td>query : letter frequencies for text identifica...</td>\n",
       "      <td>1485</td>\n",
       "    </tr>\n",
       "    <tr>\n",
       "      <th>3</th>\n",
       "      <td>risk</td>\n",
       "      <td>a colleague and i are researching the differin...</td>\n",
       "      <td>0</td>\n",
       "      <td>a colleague and i are researching the differin...</td>\n",
       "      <td>riska colleague and i are researching the diff...</td>\n",
       "      <td>328</td>\n",
       "    </tr>\n",
       "    <tr>\n",
       "      <th>4</th>\n",
       "      <td>request book information</td>\n",
       "      <td>earlier this morning i was on the phone with a...</td>\n",
       "      <td>0</td>\n",
       "      <td>earlier this morning i was on the phone with a...</td>\n",
       "      <td>request book informationearlier this morning i...</td>\n",
       "      <td>1070</td>\n",
       "    </tr>\n",
       "    <tr>\n",
       "      <th>...</th>\n",
       "      <td>...</td>\n",
       "      <td>...</td>\n",
       "      <td>...</td>\n",
       "      <td>...</td>\n",
       "      <td>...</td>\n",
       "      <td>...</td>\n",
       "    </tr>\n",
       "    <tr>\n",
       "      <th>2888</th>\n",
       "      <td>love your profile - ysuolvpv</td>\n",
       "      <td>hello thanks for stopping by ! ! we have taken...</td>\n",
       "      <td>1</td>\n",
       "      <td>hello thanks for stopping by ! ! we have taken...</td>\n",
       "      <td>love your profile - ysuolvpvhello thanks for s...</td>\n",
       "      <td>290</td>\n",
       "    </tr>\n",
       "    <tr>\n",
       "      <th>2889</th>\n",
       "      <td>you have been asked to join kiddin</td>\n",
       "      <td>the list owner of : \" kiddin \" has invited you...</td>\n",
       "      <td>1</td>\n",
       "      <td>the list owner of : \" kiddin \" has invited you...</td>\n",
       "      <td>you have been asked to join kiddinthe list own...</td>\n",
       "      <td>2197</td>\n",
       "    </tr>\n",
       "    <tr>\n",
       "      <th>2890</th>\n",
       "      <td>anglicization of composers ' names</td>\n",
       "      <td>judging from the return post , i must have sou...</td>\n",
       "      <td>0</td>\n",
       "      <td>judging from the return post , i must have sou...</td>\n",
       "      <td>anglicization of composers ' namesjudging from...</td>\n",
       "      <td>1073</td>\n",
       "    </tr>\n",
       "    <tr>\n",
       "      <th>2891</th>\n",
       "      <td>re : 6 . 797 , comparative method : n - ary co...</td>\n",
       "      <td>gotcha ! there are two separate fallacies in t...</td>\n",
       "      <td>0</td>\n",
       "      <td>gotcha ! there are two separate fallacies in t...</td>\n",
       "      <td>re : 6 . 797 , comparative method : n - ary co...</td>\n",
       "      <td>3003</td>\n",
       "    </tr>\n",
       "    <tr>\n",
       "      <th>2892</th>\n",
       "      <td>re : american - english in australia</td>\n",
       "      <td>hello ! i ' m working on a thesis concerning a...</td>\n",
       "      <td>0</td>\n",
       "      <td>hello ! i ' m working on a thesis concerning a...</td>\n",
       "      <td>re : american - english in australiahello ! i ...</td>\n",
       "      <td>736</td>\n",
       "    </tr>\n",
       "  </tbody>\n",
       "</table>\n",
       "<p>2893 rows × 6 columns</p>\n",
       "</div>"
      ],
      "text/plain": [
       "                                                subject  \\\n",
       "0               job posting - apple-iss research center   \n",
       "1                                      sociolinguistics   \n",
       "2     query : letter frequencies for text identifica...   \n",
       "3                                                  risk   \n",
       "4                              request book information   \n",
       "...                                                 ...   \n",
       "2888                       love your profile - ysuolvpv   \n",
       "2889                 you have been asked to join kiddin   \n",
       "2890                 anglicization of composers ' names   \n",
       "2891  re : 6 . 797 , comparative method : n - ary co...   \n",
       "2892               re : american - english in australia   \n",
       "\n",
       "                                                message  label  \\\n",
       "0     content - length : 3386 apple-iss research cen...      0   \n",
       "1     lang classification grimes , joseph e . and ba...      0   \n",
       "2     i am posting this inquiry for sergei atamas ( ...      0   \n",
       "3     a colleague and i are researching the differin...      0   \n",
       "4     earlier this morning i was on the phone with a...      0   \n",
       "...                                                 ...    ...   \n",
       "2888  hello thanks for stopping by ! ! we have taken...      1   \n",
       "2889  the list owner of : \" kiddin \" has invited you...      1   \n",
       "2890  judging from the return post , i must have sou...      0   \n",
       "2891  gotcha ! there are two separate fallacies in t...      0   \n",
       "2892  hello ! i ' m working on a thesis concerning a...      0   \n",
       "\n",
       "                                               messasge  \\\n",
       "0     content - length : 3386 apple-iss research cen...   \n",
       "1     lang classification grimes , joseph e . and ba...   \n",
       "2     i am posting this inquiry for sergei atamas ( ...   \n",
       "3     a colleague and i are researching the differin...   \n",
       "4     earlier this morning i was on the phone with a...   \n",
       "...                                                 ...   \n",
       "2888  hello thanks for stopping by ! ! we have taken...   \n",
       "2889  the list owner of : \" kiddin \" has invited you...   \n",
       "2890  judging from the return post , i must have sou...   \n",
       "2891  gotcha ! there are two separate fallacies in t...   \n",
       "2892  hello ! i ' m working on a thesis concerning a...   \n",
       "\n",
       "                                               sub_msge  length  \n",
       "0     job posting - apple-iss research centercontent...    2895  \n",
       "1     sociolinguisticslang classification grimes , j...    1816  \n",
       "2     query : letter frequencies for text identifica...    1485  \n",
       "3     riska colleague and i are researching the diff...     328  \n",
       "4     request book informationearlier this morning i...    1070  \n",
       "...                                                 ...     ...  \n",
       "2888  love your profile - ysuolvpvhello thanks for s...     290  \n",
       "2889  you have been asked to join kiddinthe list own...    2197  \n",
       "2890  anglicization of composers ' namesjudging from...    1073  \n",
       "2891  re : 6 . 797 , comparative method : n - ary co...    3003  \n",
       "2892  re : american - english in australiahello ! i ...     736  \n",
       "\n",
       "[2893 rows x 6 columns]"
      ]
     },
     "execution_count": 20,
     "metadata": {},
     "output_type": "execute_result"
    }
   ],
   "source": [
    "full_data['length']= full_data['sub_msge'].apply(len)\n",
    "full_data"
   ]
  },
  {
   "cell_type": "code",
   "execution_count": 21,
   "id": "17a19e73",
   "metadata": {},
   "outputs": [
    {
     "data": {
      "text/html": [
       "<div>\n",
       "<style scoped>\n",
       "    .dataframe tbody tr th:only-of-type {\n",
       "        vertical-align: middle;\n",
       "    }\n",
       "\n",
       "    .dataframe tbody tr th {\n",
       "        vertical-align: top;\n",
       "    }\n",
       "\n",
       "    .dataframe thead th {\n",
       "        text-align: right;\n",
       "    }\n",
       "</style>\n",
       "<table border=\"1\" class=\"dataframe\">\n",
       "  <thead>\n",
       "    <tr style=\"text-align: right;\">\n",
       "      <th></th>\n",
       "      <th>message</th>\n",
       "      <th>label</th>\n",
       "      <th>messasge</th>\n",
       "      <th>sub_msge</th>\n",
       "      <th>length</th>\n",
       "    </tr>\n",
       "  </thead>\n",
       "  <tbody>\n",
       "    <tr>\n",
       "      <th>0</th>\n",
       "      <td>content - length : 3386 apple-iss research cen...</td>\n",
       "      <td>0</td>\n",
       "      <td>content - length : 3386 apple-iss research cen...</td>\n",
       "      <td>job posting - apple-iss research centercontent...</td>\n",
       "      <td>2895</td>\n",
       "    </tr>\n",
       "    <tr>\n",
       "      <th>1</th>\n",
       "      <td>lang classification grimes , joseph e . and ba...</td>\n",
       "      <td>0</td>\n",
       "      <td>lang classification grimes , joseph e . and ba...</td>\n",
       "      <td>sociolinguisticslang classification grimes , j...</td>\n",
       "      <td>1816</td>\n",
       "    </tr>\n",
       "    <tr>\n",
       "      <th>2</th>\n",
       "      <td>i am posting this inquiry for sergei atamas ( ...</td>\n",
       "      <td>0</td>\n",
       "      <td>i am posting this inquiry for sergei atamas ( ...</td>\n",
       "      <td>query : letter frequencies for text identifica...</td>\n",
       "      <td>1485</td>\n",
       "    </tr>\n",
       "    <tr>\n",
       "      <th>3</th>\n",
       "      <td>a colleague and i are researching the differin...</td>\n",
       "      <td>0</td>\n",
       "      <td>a colleague and i are researching the differin...</td>\n",
       "      <td>riska colleague and i are researching the diff...</td>\n",
       "      <td>328</td>\n",
       "    </tr>\n",
       "    <tr>\n",
       "      <th>4</th>\n",
       "      <td>earlier this morning i was on the phone with a...</td>\n",
       "      <td>0</td>\n",
       "      <td>earlier this morning i was on the phone with a...</td>\n",
       "      <td>request book informationearlier this morning i...</td>\n",
       "      <td>1070</td>\n",
       "    </tr>\n",
       "  </tbody>\n",
       "</table>\n",
       "</div>"
      ],
      "text/plain": [
       "                                             message  label  \\\n",
       "0  content - length : 3386 apple-iss research cen...      0   \n",
       "1  lang classification grimes , joseph e . and ba...      0   \n",
       "2  i am posting this inquiry for sergei atamas ( ...      0   \n",
       "3  a colleague and i are researching the differin...      0   \n",
       "4  earlier this morning i was on the phone with a...      0   \n",
       "\n",
       "                                            messasge  \\\n",
       "0  content - length : 3386 apple-iss research cen...   \n",
       "1  lang classification grimes , joseph e . and ba...   \n",
       "2  i am posting this inquiry for sergei atamas ( ...   \n",
       "3  a colleague and i are researching the differin...   \n",
       "4  earlier this morning i was on the phone with a...   \n",
       "\n",
       "                                            sub_msge  length  \n",
       "0  job posting - apple-iss research centercontent...    2895  \n",
       "1  sociolinguisticslang classification grimes , j...    1816  \n",
       "2  query : letter frequencies for text identifica...    1485  \n",
       "3  riska colleague and i are researching the diff...     328  \n",
       "4  request book informationearlier this morning i...    1070  "
      ]
     },
     "execution_count": 21,
     "metadata": {},
     "output_type": "execute_result"
    }
   ],
   "source": [
    "full_data.drop('subject' ,axis =1 , inplace = True)\n",
    "full_data.head()"
   ]
  },
  {
   "cell_type": "code",
   "execution_count": 23,
   "id": "4f99645f",
   "metadata": {},
   "outputs": [
    {
     "data": {
      "image/png": "[encoded data removed]",
      "text/plain": [
       "<Figure size 1400x700 with 1 Axes>"
      ]
     },
     "metadata": {},
     "output_type": "display_data"
    }
   ],
   "source": [
    "lb=full_data['label'].value_counts().index.tolist()\n",
    "val=full_data['label'].value_counts().values.tolist()\n",
    "exp=(0.025,0)\n",
    "clr=('orange','blue')\n",
    "plt.figure(figsize=(10,5),dpi=140)\n",
    "plt.pie(x=val,explode=exp,labels=lb,colors=clr,autopct='%2.0f%%',pctdistance=0.5, shadow=True,radius=0.9)\n",
    "plt.legend([\"0 = NO SPAM\",'1 = SPAM'])\n",
    "plt.show()\n"
   ]
  },
  {
   "cell_type": "code",
   "execution_count": 24,
   "id": "c224881a",
   "metadata": {},
   "outputs": [
    {
     "data": {
      "text/plain": [
       "\"content - length : 3386 apple-iss research center a us $ 10 million joint venture between apple computer inc . and the institute of systems science of the national university of singapore , located in singapore , is looking for : a senior speech scientist - - - - - - - - - - - - - - - - - - - - - - - - - the successful candidate will have research expertise in computational linguistics , including natural language processing and * * english * * and * * chinese * * statistical language modeling . knowledge of state-of - the-art corpus-based n - gram language models , cache language models , and part-of - speech language models are required . a text - to - speech project leader - - - - - - - - - - - - - - - - - - - - - - - - - - - - - - - the successful candidate will have research expertise expertise in two or more of the following areas : computational linguistics , including natural language parsing , lexical database design , and statistical language modeling ; text tokenization and normalization ; prosodic analysis . substantial knowledge of the phonology , syntax , and semantics of chinese is required . knowledge of acoustic phonetics and / or speech signal processing is desirable . both candidates will have a phd with at least 2 to 4 years of relevant work experience , or a technical msc degree with at least 5 to 7 years of experienc e . very strong software engineering skills , including design and implementation , and productization are required in these positions . knowledge of c , c + + and unix are preferred . a unix & c programmer - - - - - - - - - - - - - - - - - - - - we are looking for an experienced unix & c programmer , preferably with good industry experience , to join us in breaking new frontiers . strong knowledge of unix tools ( compilers , linkers , make , x - windows , e - mac , . . . ) and experience in matlab required . sun and silicon graphic experience is an advantage . programmers with less than two years industry experience need not apply . these positions include interaction with scientists in the national university of singapore , and with apple 's speech research and productization efforts located in cupertino , california . attendance and publication in international scientific / engineering conferences is encouraged . benefits include an internationally competitive salary , housing subsidy , and relocation expenses . _ _ _ _ _ _ _ _ _ _ _ _ _ _ _ _ _ _ _ _ _ _ _ _ _ _ _ _ _ _ _ _ _ _ _ _ _ _ _ _ _ _ _ _ _ _ _ _ _ _ _ _ _ _ _ _ _ _ _ _ _ _ _ _ _ _ send a complete resume , enclosing personal particulars , qualifications , experience and contact telephone number to : mr jean - luc lebrun center manager apple - iss research center , institute of systems science heng mui keng terrace , singapore 0511 tel : ( 65 ) 772-6571 fax : ( 65 ) 776-4005 email : jllebrun @ iss . nus . sg\\n\""
      ]
     },
     "execution_count": 24,
     "metadata": {},
     "output_type": "execute_result"
    }
   ],
   "source": [
    "full_data['message'][0]"
   ]
  },
  {
   "cell_type": "code",
   "execution_count": 25,
   "id": "5f8eb5ad",
   "metadata": {},
   "outputs": [],
   "source": [
    "import re"
   ]
  },
  {
   "cell_type": "code",
   "execution_count": 26,
   "id": "affa62d4",
   "metadata": {},
   "outputs": [],
   "source": [
    "def decontact(phrase):\n",
    "    # specific\n",
    "    phrase = re.sub(r\"won't\", \"will not\", phrase)\n",
    "    phrase = re.sub(r\"can\\'t\", \"can not\", phrase)\n",
    "\n",
    "    # general\n",
    "    phrase = re.sub(r\"n\\'t\", \" not\", phrase)\n",
    "    phrase = re.sub(r\"\\'re\", \" are\", phrase)\n",
    "    phrase = re.sub(r\"\\'s\", \" is\", phrase)\n",
    "    phrase = re.sub(r\"\\'d\", \" would\", phrase)\n",
    "    phrase = re.sub(r\"\\'ll\", \" will\", phrase)\n",
    "    phrase = re.sub(r\"\\'t\", \" not\", phrase)\n",
    "    phrase = re.sub(r\"\\'ve\", \" have\", phrase)\n",
    "    phrase = re.sub(r\"\\'m\", \" am\", phrase)\n",
    "    return phrase"
   ]
  },
  {
   "cell_type": "code",
   "execution_count": 27,
   "id": "fc62fcbb",
   "metadata": {},
   "outputs": [
    {
     "data": {
      "text/plain": [
       "'hi , i am new to the list . and since english is not my first language , i apologize for the mistakes you might find below : - ) . i hope that you will not mind if some of my explanations are in french . for my ph . d . semiotics , i am writing a dissertation on discourse and science-fiction and i need some information about the construction of neologisms in french and in english . ( neologisms are useful in sf , specially in the scientific field ! ) in french , neologisms are made in 5 different ways ( i hope these are the right english words ) : derivation ; composition ; imitation ; pure invention ; amalgam . one might also add borrowings from other languages . here are some examples ( sorry , the explanations are in french ) : - derivation : mot derive : \" position \" peut produire le verbe \" positionner \" ; - composition : mot compose : si \" monotone \" est decompose ( \" mono \" / \" tone \" ) , on peut recomposer \" polytone \" ; a partir de \" telephone \" on peut produire en science-fiction \" videophone \" . - imitation : souvent a partir d \\' une onomatopee : a partir de l \\' onomatopee \" couac \" on peut parler d \\' un \" couac \" ( = un nom ) ; - invention : mot forge : se distingue des autres categories car on ne reconnait dans la morphologie du mot aucun terme existant ( ex . : \" emparouille \" , \" endosque \" , \" pratele \" , \" libucque \" , \" ecorbalise \" - extraits d \\' henri michaux ) . cette categorie est contestee car certains pretendent qu \\' il est toujours possible de retrouver la racine . - amalgam : mot - valise : reunion de deux mots sur la base d \\' une homonymie partielle ; ainsi \" famille \" et \" millionnaire \" peuvent donner \" famillionnaire \" . in the every day french language , the 3 first ( mostly the 2 first ) processes are more frequent and the 2 others are used in the literary ( and humoristic ) discourse . my question ( s ) is ( are ) about the construction of neologisms in english . 1 ) does english use the same processes ? 2 ) even if it does , are the processes of the same importance in both languages ? 3 ) what would be the most frequent ones ? 4 ) what are the major differences ? 5 ) etc . thank you in advance , sylvie berard - - - - - - - - - - - - - - - - - - - - - - - - - - - - - - - - - - - - - - - - - - - - - - - - - - - - - - - - - - - - - - - - - - - - - - - - - - - - - sylvie berard \" but the fact is , i really , really hate d346215 @ er . uqam . ca housework , even when universite du quebec a montreal someone else is doing it . \" - - - - - - - - - - - - - - - - - - - - - - - - - - - - - - - - - - - - - - - - - - - - - - - - - - - - - - - - - - - - - - - - - - - - - - - -\\n'"
      ]
     },
     "execution_count": 27,
     "metadata": {},
     "output_type": "execute_result"
    }
   ],
   "source": [
    "mssge= decontact(full_data['message'][70])\n",
    "mssge"
   ]
  },
  {
   "cell_type": "code",
   "execution_count": 36,
   "id": "dab3f9ab",
   "metadata": {},
   "outputs": [
    {
     "data": {
      "text/plain": [
       "\"job posting - apple-iss research centercontent - length : 3386 apple-iss research center a us $ 10 million joint venture between apple computer inc . and the institute of systems science of the national university of singapore , located in singapore , is looking for : a senior speech scientist - - - - - - - - - - - - - - - - - - - - - - - - - the successful candidate will have research expertise in computational linguistics , including natural language processing and * * english * * and * * chinese * * statistical language modeling . knowledge of state-of - the-art corpus-based n - gram language models , cache language models , and part-of - speech language models are required . a text - to - speech project leader - - - - - - - - - - - - - - - - - - - - - - - - - - - - - - - the successful candidate will have research expertise expertise in two or more of the following areas : computational linguistics , including natural language parsing , lexical database design , and statistical language modeling ; text tokenization and normalization ; prosodic analysis . substantial knowledge of the phonology , syntax , and semantics of chinese is required . knowledge of acoustic phonetics and / or speech signal processing is desirable . both candidates will have a phd with at least 2 to 4 years of relevant work experience , or a technical msc degree with at least 5 to 7 years of experienc e . very strong software engineering skills , including design and implementation , and productization are required in these positions . knowledge of c , c + + and unix are preferred . a unix & c programmer - - - - - - - - - - - - - - - - - - - - we are looking for an experienced unix & c programmer , preferably with good industry experience , to join us in breaking new frontiers . strong knowledge of unix tools ( compilers , linkers , make , x - windows , e - mac , . . . ) and experience in matlab required . sun and silicon graphic experience is an advantage . programmers with less than two years industry experience need not apply . these positions include interaction with scientists in the national university of singapore , and with apple 's speech research and productization efforts located in cupertino , california . attendance and publication in international scientific / engineering conferences is encouraged . benefits include an internationally competitive salary , housing subsidy , and relocation expenses . _ _ _ _ _ _ _ _ _ _ _ _ _ _ _ _ _ _ _ _ _ _ _ _ _ _ _ _ _ _ _ _ _ _ _ _ _ _ _ _ _ _ _ _ _ _ _ _ _ _ _ _ _ _ _ _ _ _ _ _ _ _ _ _ _ _ send a complete resume , enclosing personal particulars , qualifications , experience and contact telephone number to : mr jean - luc lebrun center manager apple - iss research center , institute of systems science heng mui keng terrace , singapore 0511 tel : ( 65 ) 772-6571 fax : ( 65 ) 776-4005 email : jllebrun @ iss . nus . sg\\n\""
      ]
     },
     "execution_count": 36,
     "metadata": {},
     "output_type": "execute_result"
    }
   ],
   "source": [
    "full_data['sub_msge']=full_data['sub_msge'].str.replace(r'\\d+(\\.\\d+)?', 'numbers')\n",
    "full_data['sub_msge'][0]"
   ]
  },
  {
   "cell_type": "code",
   "execution_count": 37,
   "id": "cf66ef67",
   "metadata": {},
   "outputs": [],
   "source": [
    "#CONVRTING EVERYTHING TO LOWERCASE\n",
    "full_data['sub_msge']=full_data['sub_msge'].str.lower()\n",
    "\n",
    "#REPLACING NEXT LINES BY 'WHITE SPACE'\n",
    "full_data['sub_msge']=full_data['sub_msge'].str.replace(r'\\n',\" \") \n",
    "\n",
    "# REPLACING EMAIL IDs BY 'MAILID'\n",
    "full_data['sub_msge']=full_data['sub_msge'].str.replace(r'^.+@[^\\.].*\\.[a-z]{2,}$','MailID')\n",
    "\n",
    "# REPLACING URLs  BY 'Links'\n",
    "full_data['sub_msge']=full_data['sub_msge'].str.replace(r'^http\\://[a-zA-Z0-9\\-\\.]+\\.[a-zA-Z]{2,3}(/\\S*)?$','Links')\n",
    "\n",
    "# REPLACING CURRENCY SIGNS BY 'MONEY'\n",
    "full_data['sub_msge']=full_data['sub_msge'].str.replace(r'£|\\$', 'Money')\n",
    "\n",
    "# REPLACING LARGE WHITE SPACE BY SINGLE WHITE SPACE\n",
    "full_data['sub_msge']=full_data['sub_msge'].str.replace(r'\\s+', ' ')\n",
    "\n",
    "# REPLACING LEADING AND TRAILING WHITE SPACE BY SINGLE WHITE SPACE\n",
    "full_data['sub_msge']=full_data['sub_msge'].str.replace(r'^\\s+|\\s+?$', '')\n",
    "\n",
    "#REPLACING CONTACT NUMBERS\n",
    "full_data['sub_msge']=full_data['sub_msge'].str.replace(r'^\\(?[\\d]{3}\\)?[\\s-]?[\\d]{3}[\\s-]?[\\d]{4}$','contact number')\n",
    "\n",
    "#REPLACING SPECIAL CHARACTERS  BY WHITE SPACE \n",
    "full_data['sub_msge']=full_data['sub_msge'].str.replace(r\"[^a-zA-Z0-9]+\", \" \")"
   ]
  },
  {
   "cell_type": "code",
   "execution_count": 38,
   "id": "263212be",
   "metadata": {},
   "outputs": [],
   "source": [
    "import re\n",
    "\n",
    "# Convert to lowercase\n",
    "full_data['message'] = full_data['message'].str.lower()\n",
    "\n"
   ]
  },
  {
   "cell_type": "code",
   "execution_count": 39,
   "id": "8e6d036a",
   "metadata": {},
   "outputs": [],
   "source": [
    "# Replace newlines with white space\n",
    "full_data['message'] = full_data['message'].str.replace(r'\\n', ' ')\n"
   ]
  },
  {
   "cell_type": "code",
   "execution_count": 40,
   "id": "16521a85",
   "metadata": {},
   "outputs": [],
   "source": [
    "# Replace email IDs\n",
    "full_data['message'] = full_data['message'].str.replace(r'\\b[A-Za-z0-9._%+-]+@[A-Za-z0-9.-]+\\.[A-Z|a-z]{2,}\\b', 'MailID')\n",
    "\n"
   ]
  },
  {
   "cell_type": "code",
   "execution_count": 41,
   "id": "4dca0e3f",
   "metadata": {},
   "outputs": [],
   "source": [
    "# Replace URLs\n",
    "full_data['message'] = full_data['message'].str.replace(r'http[s]?://(?:[a-zA-Z]|[0-9]|[$-_@.&+]|[!*\\\\(\\\\),]|(?:%[0-9a-fA-F][0-9a-fA-F]))+', 'Links')\n",
    "\n"
   ]
  },
  {
   "cell_type": "code",
   "execution_count": 42,
   "id": "ecabb025",
   "metadata": {},
   "outputs": [],
   "source": [
    "# Replace currency signs\n",
    "full_data['message'] = full_data['message'].str.replace(r'£|\\$', 'Money')\n",
    "\n"
   ]
  },
  {
   "cell_type": "code",
   "execution_count": 43,
   "id": "e475c9cd",
   "metadata": {},
   "outputs": [],
   "source": [
    "# Replace multiple white spaces with a single space\n",
    "full_data['message'] = full_data['message'].str.replace(r'\\s+', ' ')\n",
    "\n"
   ]
  },
  {
   "cell_type": "code",
   "execution_count": 44,
   "id": "3c1c133b",
   "metadata": {},
   "outputs": [],
   "source": [
    "\n",
    "\n",
    "# Replace contact numbers\n",
    "full_data['message'] = full_data['message'].str.replace(r'\\b\\d{3}[-.\\s]?\\d{3}[-.\\s]?\\d{4}\\b', 'contact number')\n",
    "\n",
    "# Replace special characters with white space\n",
    "full_data['message'] = full_data['message'].str.replace(r'[^a-zA-Z0-9]+', ' ')\n"
   ]
  },
  {
   "cell_type": "code",
   "execution_count": 45,
   "id": "7edaf879",
   "metadata": {},
   "outputs": [
    {
     "data": {
      "text/plain": [
       "\"job posting - apple-iss research centercontent - length : 3386 apple-iss research center a us $ 10 million joint venture between apple computer inc . and the institute of systems science of the national university of singapore , located in singapore , is looking for : a senior speech scientist - - - - - - - - - - - - - - - - - - - - - - - - - the successful candidate will have research expertise in computational linguistics , including natural language processing and * * english * * and * * chinese * * statistical language modeling . knowledge of state-of - the-art corpus-based n - gram language models , cache language models , and part-of - speech language models are required . a text - to - speech project leader - - - - - - - - - - - - - - - - - - - - - - - - - - - - - - - the successful candidate will have research expertise expertise in two or more of the following areas : computational linguistics , including natural language parsing , lexical database design , and statistical language modeling ; text tokenization and normalization ; prosodic analysis . substantial knowledge of the phonology , syntax , and semantics of chinese is required . knowledge of acoustic phonetics and / or speech signal processing is desirable . both candidates will have a phd with at least 2 to 4 years of relevant work experience , or a technical msc degree with at least 5 to 7 years of experienc e . very strong software engineering skills , including design and implementation , and productization are required in these positions . knowledge of c , c + + and unix are preferred . a unix & c programmer - - - - - - - - - - - - - - - - - - - - we are looking for an experienced unix & c programmer , preferably with good industry experience , to join us in breaking new frontiers . strong knowledge of unix tools ( compilers , linkers , make , x - windows , e - mac , . . . ) and experience in matlab required . sun and silicon graphic experience is an advantage . programmers with less than two years industry experience need not apply . these positions include interaction with scientists in the national university of singapore , and with apple 's speech research and productization efforts located in cupertino , california . attendance and publication in international scientific / engineering conferences is encouraged . benefits include an internationally competitive salary , housing subsidy , and relocation expenses . _ _ _ _ _ _ _ _ _ _ _ _ _ _ _ _ _ _ _ _ _ _ _ _ _ _ _ _ _ _ _ _ _ _ _ _ _ _ _ _ _ _ _ _ _ _ _ _ _ _ _ _ _ _ _ _ _ _ _ _ _ _ _ _ _ _ send a complete resume , enclosing personal particulars , qualifications , experience and contact telephone number to : mr jean - luc lebrun center manager apple - iss research center , institute of systems science heng mui keng terrace , singapore 0511 tel : ( 65 ) 772-6571 fax : ( 65 ) 776-4005 email : jllebrun @ iss . nus . sg\\n\""
      ]
     },
     "execution_count": 45,
     "metadata": {},
     "output_type": "execute_result"
    }
   ],
   "source": [
    "def remove_non_alphabetic(text):\n",
    "    # Use regular expression to remove non-alphabetic characters\n",
    "    cleaned_text = re.sub(r'[^a-zA-Z\\s^.+@[^\\.].*\\.[a-z]{2,}$^http\\://[a-zA-Z0-9\\-\\.]+\\.[a-zA-Z]{2,3}(/\\S*)?$£|\\$^\\(?[\\d]{3}\\)?[\\s-]?[\\d]{3}[\\s-]?[\\d]{4}$\\n\\b[A-Za-z0-9._%+-]+@[A-Za-z0-9.-]+\\.[A-Z|a-z]{2,}\\b]', '', str(text))\n",
    "    return cleaned_text\n",
    "\n",
    "# Assuming full_data is your DataFrame and 'paragraph' is the column containing text\n",
    "# Replace 'full_data' and 'paragraph' with your actual DataFrame and column names\n",
    "full_data['sub_msge'] = full_data['sub_msge'].apply(remove_non_alphabetic)\n",
    "full_data['sub_msge'][0]\n"
   ]
  },
  {
   "cell_type": "code",
   "execution_count": 46,
   "id": "418c41fc",
   "metadata": {},
   "outputs": [],
   "source": [
    "def remove_non_alphabetic(text):\n",
    "    # Use regular expression to remove non-alphabetic characters\n",
    "    cleaned_text = re.sub(r'[^a-zA-Z\\s^.+@[^\\.].*\\.[a-z]{2,}$^http\\://[a-zA-Z0-9\\-\\.]+\\.[a-zA-Z]{2,3}(/\\S*)?$£|\\$^\\(?[\\d]{3}\\)?[\\s-]?[\\d]{3}[\\s-]?[\\d]{4}$\\n\\b[A-Za-z0-9._%+-]+@[A-Za-z0-9.-]+\\.[A-Z|a-z]{2,}\\b]', '', str(text))\n",
    "    return cleaned_text\n",
    "\n",
    "# Assuming full_data is your DataFrame and 'paragraph' is the column containing text\n",
    "# Replace 'full_data' and 'paragraph' with your actual DataFrame and column names\n",
    "full_data['message'] = full_data['message'].apply(remove_non_alphabetic)\n",
    "\n"
   ]
  },
  {
   "cell_type": "code",
   "execution_count": null,
   "id": "64a91062",
   "metadata": {},
   "outputs": [],
   "source": []
  }
 ],
 "metadata": {
  "kernelspec": {
   "display_name": "Python 3 (ipykernel)",
   "language": "python",
   "name": "python3"
  },
  "language_info": {
   "codemirror_mode": {
    "name": "ipython",
    "version": 3
   },
   "file_extension": ".py",
   "mimetype": "text/x-python",
   "name": "python",
   "nbconvert_exporter": "python",
   "pygments_lexer": "ipython3",
   "version": "3.11.5"
  }
 },
 "nbformat": 4,
 "nbformat_minor": 5
}
